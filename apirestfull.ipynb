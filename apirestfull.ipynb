{
 "cells": [
  {
   "cell_type": "code",
   "execution_count": 12,
   "metadata": {},
   "outputs": [
    {
     "data": {
      "text/plain": [
       "{'coord': {'lon': 80.5412, 'lat': 16.3887},\n",
       " 'weather': [{'id': 803,\n",
       "   'main': 'Clouds',\n",
       "   'description': 'broken clouds',\n",
       "   'icon': '04n'}],\n",
       " 'base': 'stations',\n",
       " 'main': {'temp': 295.01,\n",
       "  'feels_like': 295,\n",
       "  'temp_min': 295.01,\n",
       "  'temp_max': 295.01,\n",
       "  'pressure': 1010,\n",
       "  'humidity': 67,\n",
       "  'sea_level': 1010,\n",
       "  'grnd_level': 1008},\n",
       " 'visibility': 10000,\n",
       " 'wind': {'speed': 2.46, 'deg': 321, 'gust': 3.45},\n",
       " 'clouds': {'all': 77},\n",
       " 'dt': 1698097797,\n",
       " 'sys': {'country': 'IN', 'sunrise': 1698107534, 'sunset': 1698149502},\n",
       " 'timezone': 19800,\n",
       " 'id': 0,\n",
       " 'name': 'Kaza',\n",
       " 'cod': 200}"
      ]
     },
     "execution_count": 12,
     "metadata": {},
     "output_type": "execute_result"
    }
   ],
   "source": [
    "import requests, json\n",
    "\n",
    "url = 'https://api.openweathermap.org/data/2.5/weather?zip=534260,In&appid=a6962678a5cba51e8db12b46bc87a867'\n",
    "r = requests.get(url)\n",
    "data = json.loads(r.text)\n",
    "data\n"
   ]
  },
  {
   "cell_type": "code",
   "execution_count": 13,
   "metadata": {},
   "outputs": [
    {
     "name": "stdout",
     "output_type": "stream",
     "text": [
      "1698060303 1698098586\n",
      "200\n"
     ]
    }
   ],
   "source": [
    "import requests, json\n",
    "\n",
    "url = f'https://api.openweathermap.org/data/2.5/weather?zip={13676},us&appid=a6962678a5cba51e8db12b46bc87a867'\n",
    "r = requests.get(url)\n",
    "data = json.loads(r.text)\n",
    "print(data['sys']['sunrise'],data['sys']['sunset'])\n",
    "print(data['cod'])\n",
    "\n"
   ]
  },
  {
   "cell_type": "code",
   "execution_count": 14,
   "metadata": {},
   "outputs": [
    {
     "data": {
      "text/plain": [
       "['33018',\n",
       " '75001',\n",
       " '54590',\n",
       " '84740',\n",
       " '82310',\n",
       " '12311',\n",
       " '99762',\n",
       " '50047',\n",
       " '54600',\n",
       " '59105',\n",
       " '83278']"
      ]
     },
     "execution_count": 14,
     "metadata": {},
     "output_type": "execute_result"
    }
   ],
   "source": [
    "import csv\n",
    "a = open(\"ziplist.csv\")\n",
    "k = []\n",
    "reader= csv.reader(a)\n",
    "for i in reader:\n",
    "    k.append(i[0])\n",
    "\n",
    "ziplist = k[1::]\n",
    "ziplist"
   ]
  },
  {
   "cell_type": "code",
   "execution_count": 15,
   "metadata": {},
   "outputs": [
    {
     "name": "stdout",
     "output_type": "stream",
     "text": [
      "{'status': 'ok', 'unixsunrise': 1698107534, 'unixsunset': 1698149502, 'sunrise': '2023-10-24 00:32:14', 'sunset': '2023-10-24 12:11:42'}\n"
     ]
    }
   ],
   "source": [
    "import requests, json\n",
    "import datetime\n",
    "def getdaylight(zipcode, country = 'us'):\n",
    "    url = f'https://api.openweathermap.org/data/2.5/weather?zip={zipcode},{country}&appid=a6962678a5cba51e8db12b46bc87a867'\n",
    "    r = requests.get(url)\n",
    "    data = json.loads(r.text)\n",
    "    d = {}\n",
    "    if data['cod'] == 200:\n",
    "        d['status'] = \"ok\"\n",
    "        d['unixsunrise'] = data['sys']['sunrise']\n",
    "        d['unixsunset'] = data['sys']['sunset']\n",
    "        exact_sunrise_time = datetime.datetime.utcfromtimestamp(data['sys']['sunrise'])\n",
    "        exact_sunset_time = datetime.datetime.utcfromtimestamp(data['sys']['sunset'])\n",
    "        d[\"sunrise\"] = exact_sunrise_time.strftime('%Y-%m-%d %H:%M:%S')\n",
    "        d[\"sunset\"] = exact_sunset_time.strftime('%Y-%m-%d %H:%M:%S')\n",
    "    else:\n",
    "        d['status'] = \"Not found\"\n",
    "        d['unixsunrise'] = \"not shown\"\n",
    "        d['unixsunset'] = \"not shown\"\n",
    "        d[\"sunrise\"] = \"not shown\"\n",
    "        d[\"sunset\"] = \"not shown\"\n",
    "    return d\n",
    "    \n",
    "\n",
    "zipcodeinp = input()\n",
    "countrycodeinp = input()\n",
    "\n",
    "print(getdaylight(zipcodeinp, countrycodeinp))"
   ]
  },
  {
   "cell_type": "code",
   "execution_count": null,
   "metadata": {},
   "outputs": [],
   "source": []
  },
  {
   "cell_type": "code",
   "execution_count": 16,
   "metadata": {},
   "outputs": [
    {
     "data": {
      "text/plain": [
       "{'coord': {'lon': -74.9681, 'lat': 44.6592},\n",
       " 'weather': [{'id': 800,\n",
       "   'main': 'Clear',\n",
       "   'description': 'clear sky',\n",
       "   'icon': '01d'}],\n",
       " 'base': 'stations',\n",
       " 'main': {'temp': 281.58,\n",
       "  'feels_like': 280.06,\n",
       "  'temp_min': 281.23,\n",
       "  'temp_max': 283.71,\n",
       "  'pressure': 1023,\n",
       "  'humidity': 71},\n",
       " 'visibility': 10000,\n",
       " 'wind': {'speed': 2.57, 'deg': 240},\n",
       " 'clouds': {'all': 0},\n",
       " 'dt': 1698097798,\n",
       " 'sys': {'type': 1,\n",
       "  'id': 5420,\n",
       "  'country': 'US',\n",
       "  'sunrise': 1698060303,\n",
       "  'sunset': 1698098586},\n",
       " 'timezone': -14400,\n",
       " 'id': 0,\n",
       " 'name': 'Potsdam',\n",
       " 'cod': 200}"
      ]
     },
     "execution_count": 16,
     "metadata": {},
     "output_type": "execute_result"
    }
   ],
   "source": [
    "data"
   ]
  },
  {
   "cell_type": "code",
   "execution_count": 17,
   "metadata": {},
   "outputs": [],
   "source": [
    "s = open(\"ziplist.csv\")\n",
    "count = 0\n",
    "ziplist = []\n",
    "for i in s:\n",
    "    if count > 0:\n",
    "        ziplist.append(i[0:5])\n",
    "    count+=1"
   ]
  },
  {
   "cell_type": "code",
   "execution_count": 18,
   "metadata": {},
   "outputs": [],
   "source": [
    "import requests, json\n",
    "import datetime\n",
    "def getdaylight(zipcode, country = 'us'):\n",
    "    url = f'https://api.openweathermap.org/data/2.5/weather?zip={zipcode},{country}&appid=a6962678a5cba51e8db12b46bc87a867'\n",
    "    r = requests.get(url)\n",
    "    data = json.loads(r.text)\n",
    "    d = {}\n",
    "    if data['cod'] == 200:\n",
    "        d['status'] = \"ok\"\n",
    "        d['unixsunrise'] = data['sys']['sunrise']\n",
    "        d['unixsunset'] = data['sys']['sunset']\n",
    "        exact_sunrise_time = datetime.datetime.utcfromtimestamp(data['sys']['sunrise'])\n",
    "        exact_sunset_time = datetime.datetime.utcfromtimestamp(data['sys']['sunset'])\n",
    "        d[\"sunrise\"] = exact_sunrise_time.strftime('%Y-%m-%d %H:%M:%S')\n",
    "        d[\"sunset\"] = exact_sunset_time.strftime('%Y-%m-%d %H:%M:%S')\n",
    "        \n",
    "    else:\n",
    "        d['status'] = \"Not found\"\n",
    "        d['unixsunrise'] = \"not shown\"\n",
    "        d['unixsunset'] = \"not shown\"\n",
    "        d[\"sunrise\"] = \"not shown\"\n",
    "        d[\"sunset\"] = \"not shown\"\n",
    "    return d\n",
    "\n",
    "newdata = {}\n",
    "for zipcode in ziplist:\n",
    "    newdata[zipcode] = getdaylight(zipcode)\n",
    "\n"
   ]
  },
  {
   "cell_type": "code",
   "execution_count": 19,
   "metadata": {},
   "outputs": [
    {
     "data": {
      "text/plain": [
       "{'33018': {'status': 'ok',\n",
       "  'unixsunrise': 1698060264,\n",
       "  'unixsunset': 1698101227,\n",
       "  'sunrise': '2023-10-23 11:24:24',\n",
       "  'sunset': '2023-10-23 22:47:07'},\n",
       " '75001': {'status': 'ok',\n",
       "  'unixsunrise': 1698064650,\n",
       "  'unixsunset': 1698104736,\n",
       "  'sunrise': '2023-10-23 12:37:30',\n",
       "  'sunset': '2023-10-23 23:45:36'},\n",
       " '54590': {'status': 'Not found',\n",
       "  'unixsunrise': 'not shown',\n",
       "  'unixsunset': 'not shown',\n",
       "  'sunrise': 'not shown',\n",
       "  'sunset': 'not shown'},\n",
       " '84740': {'status': 'ok',\n",
       "  'unixsunrise': 1698068718,\n",
       "  'unixsunset': 1698108052,\n",
       "  'sunrise': '2023-10-23 13:45:18',\n",
       "  'sunset': '2023-10-24 00:40:52'},\n",
       " '82310': {'status': 'ok',\n",
       "  'unixsunrise': 1698068019,\n",
       "  'unixsunset': 1698106663,\n",
       "  'sunrise': '2023-10-23 13:33:39',\n",
       "  'sunset': '2023-10-24 00:17:43'},\n",
       " '12311': {'status': 'Not found',\n",
       "  'unixsunrise': 'not shown',\n",
       "  'unixsunset': 'not shown',\n",
       "  'sunrise': 'not shown',\n",
       "  'sunset': 'not shown'},\n",
       " '99762': {'status': 'ok',\n",
       "  'unixsunrise': 1698085063,\n",
       "  'unixsunset': 1698117233,\n",
       "  'sunrise': '2023-10-23 18:17:43',\n",
       "  'sunset': '2023-10-24 03:13:53'},\n",
       " '50047': {'status': 'ok',\n",
       "  'unixsunrise': 1698064475,\n",
       "  'unixsunset': 1698103304,\n",
       "  'sunrise': '2023-10-23 12:34:35',\n",
       "  'sunset': '2023-10-23 23:21:44'},\n",
       " '54600': {'status': 'Not found',\n",
       "  'unixsunrise': 'not shown',\n",
       "  'unixsunset': 'not shown',\n",
       "  'sunrise': 'not shown',\n",
       "  'sunset': 'not shown'},\n",
       " '59105': {'status': 'ok',\n",
       "  'unixsunrise': 1698068504,\n",
       "  'unixsunset': 1698106527,\n",
       "  'sunrise': '2023-10-23 13:41:44',\n",
       "  'sunset': '2023-10-24 00:15:27'},\n",
       " '83278': {'status': 'ok',\n",
       "  'unixsunrise': 1698069858,\n",
       "  'unixsunset': 1698108175,\n",
       "  'sunrise': '2023-10-23 14:04:18',\n",
       "  'sunset': '2023-10-24 00:42:55'}}"
      ]
     },
     "execution_count": 19,
     "metadata": {},
     "output_type": "execute_result"
    }
   ],
   "source": [
    "newdata"
   ]
  },
  {
   "cell_type": "code",
   "execution_count": 20,
   "metadata": {},
   "outputs": [
    {
     "name": "stdout",
     "output_type": "stream",
     "text": [
      "Data has been saved to weatherdatafinal.csv\n"
     ]
    }
   ],
   "source": [
    "import csv\n",
    "\n",
    "csv_file = 'weatherdatafinal.csv'\n",
    "\n",
    "\n",
    "fieldnames = ['zipcode', 'status', 'unixsunrise', 'unixsunset', 'sunset', 'sunrise']\n",
    "\n",
    "with open(csv_file, 'w', newline='') as csvfile:\n",
    "    writer = csv.DictWriter(csvfile, fieldnames=fieldnames)\n",
    "    \n",
    "\n",
    "    if fieldnames:\n",
    "        writer.writeheader()\n",
    "    \n",
    "\n",
    "    for zipcode, info in newdata.items():\n",
    "        writer.writerow({'zipcode': zipcode, 'status': info['status'], 'unixsunrise': info['unixsunrise'], 'unixsunset': info['unixsunset'], 'sunset': info['sunset'], 'sunrise': info['sunrise']})\n",
    "\n",
    "print(f\"Data has been saved to {csv_file}\")\n"
   ]
  }
 ],
 "metadata": {
  "kernelspec": {
   "display_name": "Python 3",
   "language": "python",
   "name": "python3"
  },
  "language_info": {
   "codemirror_mode": {
    "name": "ipython",
    "version": 3
   },
   "file_extension": ".py",
   "mimetype": "text/x-python",
   "name": "python",
   "nbconvert_exporter": "python",
   "pygments_lexer": "ipython3",
   "version": "3.11.6"
  }
 },
 "nbformat": 4,
 "nbformat_minor": 2
}
